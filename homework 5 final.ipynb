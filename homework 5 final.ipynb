{
 "cells": [
  {
   "cell_type": "code",
   "execution_count": 1,
   "metadata": {},
   "outputs": [],
   "source": [
    "# Import Libraries and Dependencies\n",
    "import pandas as pd"
   ]
  },
  {
   "cell_type": "markdown",
   "metadata": {},
   "source": [
    "### 1. Combine and Clean the Data\n",
    "#### Import CSVs"
   ]
  },
  {
   "cell_type": "code",
   "execution_count": 4,
   "metadata": {},
   "outputs": [],
   "source": [
    "# Read the CSV files into DataFrames.\n",
    "sales_2021_path = r\"C:\\Users\\Chris\\ASU Repo\\ASU-VIRT-AI-PT-11-2023-U-LOLC\\02-Challenges\\05-Pandas-Data-Preparation-2\\athletic_sales_2021.csv\"\n",
    "sales_2020_path = r\"C:\\Users\\Chris\\ASU Repo\\ASU-VIRT-AI-PT-11-2023-U-LOLC\\02-Challenges\\05-Pandas-Data-Preparation-2\\athletic_sales_2020.csv\"\n",
    "\n",
    "# Read the CSV files into DataFrames\n",
    "sales_2021 = pd.read_csv(sales_2021_path)\n",
    "sales_2020 = pd.read_csv(sales_2020_path)\n"
   ]
  },
  {
   "cell_type": "code",
   "execution_count": 5,
   "metadata": {},
   "outputs": [
    {
     "name": "stdout",
     "output_type": "stream",
     "text": [
      "         retailer  retailer_id invoice_date     region         state  \\\n",
      "0     Foot Locker      1185732       1/1/20  Northeast      New York   \n",
      "1     Foot Locker      1185732       1/1/20  Northeast  Pennsylvania   \n",
      "2     Foot Locker      1185732       1/1/20  Northeast  Pennsylvania   \n",
      "3     Foot Locker      1185732       1/1/20  Northeast      New York   \n",
      "4     Foot Locker      1185732       1/1/20  Northeast  Pennsylvania   \n",
      "...           ...          ...          ...        ...           ...   \n",
      "1292    West Gear      1128299     12/30/20       West    California   \n",
      "1293    West Gear      1128299     12/30/20       West    California   \n",
      "1294       Kohl's      1189833     12/30/20    Midwest     Minnesota   \n",
      "1295       Kohl's      1189833     12/30/20    Midwest     Minnesota   \n",
      "1296    West Gear      1128299     12/30/20       West    California   \n",
      "\n",
      "               city                  product  price_per_unit  units_sold  \\\n",
      "0          New York    Men's Street Footwear              50        1200   \n",
      "1      Philadelphia          Women's Apparel              68          83   \n",
      "2      Philadelphia          Women's Apparel              75         275   \n",
      "3          New York    Men's Street Footwear              34         384   \n",
      "4      Philadelphia          Women's Apparel              53          83   \n",
      "...             ...                      ...             ...         ...   \n",
      "1292  San Francisco          Women's Apparel              72         203   \n",
      "1293  San Francisco          Women's Apparel              80         700   \n",
      "1294    Minneapolis  Women's Street Footwear              41         119   \n",
      "1295    Minneapolis  Women's Street Footwear              45         475   \n",
      "1296  San Francisco          Women's Apparel              62         245   \n",
      "\n",
      "      total_sales  operating_profit sales_method  \n",
      "0          600000         300000.00     In-store  \n",
      "1            5644           2426.92       Online  \n",
      "2          206250          61875.00       Outlet  \n",
      "3           13056           6789.12       Outlet  \n",
      "4            4399           1407.68       Outlet  \n",
      "...           ...               ...          ...  \n",
      "1292        14616           3946.32       Online  \n",
      "1293       560000          84000.00       Outlet  \n",
      "1294         4879           2878.61       Online  \n",
      "1295       213750          96187.50       Outlet  \n",
      "1296        15190           2886.10       Outlet  \n",
      "\n",
      "[1297 rows x 12 columns]\n"
     ]
    }
   ],
   "source": [
    "# Display the 2020 sales DataFrame\n",
    "print(sales_2020)"
   ]
  },
  {
   "cell_type": "code",
   "execution_count": 6,
   "metadata": {},
   "outputs": [
    {
     "name": "stdout",
     "output_type": "stream",
     "text": [
      "         retailer  retailer_id invoice_date     region         state  \\\n",
      "0       West Gear      1128299       1/1/21       West    California   \n",
      "1       West Gear      1128299       1/1/21       West    California   \n",
      "2          Kohl's      1189833       1/1/21    Midwest       Montana   \n",
      "3          Kohl's      1189833       1/1/21    Midwest       Montana   \n",
      "4       West Gear      1128299       1/1/21       West    California   \n",
      "...           ...          ...          ...        ...           ...   \n",
      "8341  Foot Locker      1185732     12/31/21  Northeast  Pennsylvania   \n",
      "8342  Foot Locker      1185732     12/31/21  Northeast  Pennsylvania   \n",
      "8343       Amazon      1185732     12/31/21  Northeast         Maine   \n",
      "8344       Amazon      1185732     12/31/21  Northeast         Maine   \n",
      "8345  Foot Locker      1185732     12/31/21  Northeast  Pennsylvania   \n",
      "\n",
      "               city                  product  price_per_unit  units_sold  \\\n",
      "0     San Francisco  Men's Athletic Footwear              65         750   \n",
      "1     San Francisco  Men's Athletic Footwear              51         233   \n",
      "2          Billings            Men's Apparel              50         275   \n",
      "3          Billings            Men's Apparel              47          77   \n",
      "4     San Francisco  Men's Athletic Footwear              64         225   \n",
      "...             ...                      ...             ...         ...   \n",
      "8341   Philadelphia            Men's Apparel              63          47   \n",
      "8342   Philadelphia            Men's Apparel              46          56   \n",
      "8343       Portland            Men's Apparel              52          36   \n",
      "8344       Portland            Men's Apparel              55         125   \n",
      "8345   Philadelphia            Men's Apparel              70         175   \n",
      "\n",
      "      total_sales  operating_profit sales_method  \n",
      "0          487500         121875.00       Outlet  \n",
      "1           11883           3208.41       Outlet  \n",
      "2          137500          82500.00       Outlet  \n",
      "3            3619           2714.25       Online  \n",
      "4           14400           5184.00       Online  \n",
      "...           ...               ...          ...  \n",
      "8341         2961           1362.06       Online  \n",
      "8342         2576           1004.64       Outlet  \n",
      "8343         1872            692.64       Online  \n",
      "8344        68750          17187.50       Outlet  \n",
      "8345       122500          42875.00       Outlet  \n",
      "\n",
      "[8346 rows x 12 columns]\n"
     ]
    }
   ],
   "source": [
    "# Display the 2021 sales DataFrame\n",
    "print(sales_2021)"
   ]
  },
  {
   "cell_type": "markdown",
   "metadata": {},
   "source": [
    "#### Check the data types of each DataFrame"
   ]
  },
  {
   "cell_type": "code",
   "execution_count": 7,
   "metadata": {},
   "outputs": [],
   "source": [
    "# Check the 2020 sales data types.\n",
    "data_types_2020 = sales_2020.dtypes"
   ]
  },
  {
   "cell_type": "code",
   "execution_count": 8,
   "metadata": {},
   "outputs": [],
   "source": [
    "# Check the 2021 sales data types.\n",
    "data_types_2021 = sales_2021.dtypes"
   ]
  },
  {
   "cell_type": "markdown",
   "metadata": {},
   "source": [
    "#### Combine the sales data by rows."
   ]
  },
  {
   "cell_type": "code",
   "execution_count": 9,
   "metadata": {},
   "outputs": [],
   "source": [
    "# Combine the 2020 and 2021 sales DataFrames on the rows and reset the index.\n",
    "combined_sales = pd.concat([sales_2020, sales_2021], ignore_index=True)"
   ]
  },
  {
   "cell_type": "code",
   "execution_count": 10,
   "metadata": {},
   "outputs": [
    {
     "name": "stdout",
     "output_type": "stream",
     "text": [
      "retailer            False\n",
      "retailer_id         False\n",
      "invoice_date        False\n",
      "region              False\n",
      "state               False\n",
      "city                False\n",
      "product             False\n",
      "price_per_unit      False\n",
      "units_sold          False\n",
      "total_sales         False\n",
      "operating_profit    False\n",
      "sales_method        False\n",
      "dtype: bool\n"
     ]
    }
   ],
   "source": [
    "# Check if any values are null.\n",
    "null_values = combined_sales.isnull().any()\n",
    "\n",
    "# Display the result\n",
    "print(null_values)"
   ]
  },
  {
   "cell_type": "code",
   "execution_count": 11,
   "metadata": {},
   "outputs": [
    {
     "name": "stdout",
     "output_type": "stream",
     "text": [
      "retailer             object\n",
      "retailer_id           int64\n",
      "invoice_date         object\n",
      "region               object\n",
      "state                object\n",
      "city                 object\n",
      "product              object\n",
      "price_per_unit        int64\n",
      "units_sold            int64\n",
      "total_sales           int64\n",
      "operating_profit    float64\n",
      "sales_method         object\n",
      "dtype: object\n"
     ]
    }
   ],
   "source": [
    "# Check the data type of each column\n",
    "combined_data_types = combined_sales.dtypes\n",
    "\n",
    "# Display the data types\n",
    "print(combined_data_types)"
   ]
  },
  {
   "cell_type": "code",
   "execution_count": 12,
   "metadata": {},
   "outputs": [
    {
     "name": "stderr",
     "output_type": "stream",
     "text": [
      "C:\\Users\\Chris\\AppData\\Local\\Temp\\ipykernel_8884\\1368169339.py:2: UserWarning: Could not infer format, so each element will be parsed individually, falling back to `dateutil`. To ensure parsing is consistent and as-expected, please specify a format.\n",
      "  combined_sales['invoice_date'] = pd.to_datetime(combined_sales['invoice_date'])\n"
     ]
    }
   ],
   "source": [
    "# Convert the \"invoice_date\" to a datetime datatype\n",
    "combined_sales['invoice_date'] = pd.to_datetime(combined_sales['invoice_date'])"
   ]
  },
  {
   "cell_type": "code",
   "execution_count": 13,
   "metadata": {},
   "outputs": [
    {
     "name": "stdout",
     "output_type": "stream",
     "text": [
      "retailer                    object\n",
      "retailer_id                  int64\n",
      "invoice_date        datetime64[ns]\n",
      "region                      object\n",
      "state                       object\n",
      "city                        object\n",
      "product                     object\n",
      "price_per_unit               int64\n",
      "units_sold                   int64\n",
      "total_sales                  int64\n",
      "operating_profit           float64\n",
      "sales_method                object\n",
      "dtype: object\n"
     ]
    }
   ],
   "source": [
    "# Confirm that the \"invoice_date\" data type has been changed.\n",
    "print(combined_sales.dtypes)"
   ]
  },
  {
   "cell_type": "markdown",
   "metadata": {},
   "source": [
    "### 2. Determine which Region Sold the Most Products"
   ]
  },
  {
   "cell_type": "markdown",
   "metadata": {},
   "source": [
    "#### Using `groupby`"
   ]
  },
  {
   "cell_type": "code",
   "execution_count": 18,
   "metadata": {},
   "outputs": [
    {
     "name": "stdout",
     "output_type": "stream",
     "text": [
      "      region  Total_Products_Sold\n",
      "4       West               685563\n",
      "1  Northeast               501279\n",
      "2      South               492260\n",
      "3  Southeast               407000\n",
      "0    Midwest               390914\n"
     ]
    }
   ],
   "source": [
    "# Show the number products sold for region, state, and city.\n",
    "# Group the data by region, sum the units_sold, and rename the sum column\n",
    "products_sold_by_region = combined_sales.groupby('region').agg(Total_Products_Sold=('units_sold', 'sum')).reset_index()\n",
    "\n",
    "# Sort the results in descending order to get the regions with the most products sold\n",
    "top_regions_products_sold = products_sold_by_region.sort_values('Total_Products_Sold', ascending=False)\n",
    "\n",
    "# Display the results\n",
    "print(top_regions_products_sold)"
   ]
  },
  {
   "cell_type": "markdown",
   "metadata": {},
   "source": [
    "#### Using `pivot_table`"
   ]
  },
  {
   "cell_type": "code",
   "execution_count": 19,
   "metadata": {},
   "outputs": [
    {
     "name": "stdout",
     "output_type": "stream",
     "text": [
      "           Total_Products_Sold\n",
      "region                        \n",
      "West                    685563\n",
      "Northeast               501279\n",
      "South                   492260\n",
      "Southeast               407000\n",
      "Midwest                 390914\n"
     ]
    }
   ],
   "source": [
    "# Show the number products sold for region, state, and city.\n",
    "pivot_table_region = combined_sales.pivot_table(values='units_sold', index='region', aggfunc='sum')\n",
    "\n",
    "# Rename the aggregated column to \"Total_Products_Sold\" for clarity\n",
    "pivot_table_region.columns = ['Total_Products_Sold']\n",
    "\n",
    "# Sort the results in descending order to get the regions with the most products sold\n",
    "top_regions_products_sold = pivot_table_region.sort_values('Total_Products_Sold', ascending=False)\n",
    "\n",
    "# Display the results\n",
    "print(top_regions_products_sold)"
   ]
  },
  {
   "cell_type": "markdown",
   "metadata": {},
   "source": [
    "### 3. Determine which Region had the Most Sales"
   ]
  },
  {
   "cell_type": "markdown",
   "metadata": {},
   "source": [
    "#### Using `groupby`"
   ]
  },
  {
   "cell_type": "code",
   "execution_count": 20,
   "metadata": {},
   "outputs": [
    {
     "name": "stdout",
     "output_type": "stream",
     "text": [
      "      region  Total_Sales\n",
      "4       West    269377190\n",
      "1  Northeast    186324067\n",
      "3  Southeast    163171236\n",
      "2      South    144663181\n",
      "0    Midwest    135649897\n"
     ]
    }
   ],
   "source": [
    "# Group the data by region, sum the total_sales, and rename the sum column\n",
    "sales_by_region_groupby = combined_sales.groupby('region').agg(Total_Sales=('total_sales', 'sum')).reset_index()\n",
    "\n",
    "# Sort the results in descending order to find the region with the most sales\n",
    "top_sales_region_groupby = sales_by_region_groupby.sort_values('Total_Sales', ascending=False)\n",
    "\n",
    "# Display the sorted results for groupby\n",
    "print(top_sales_region_groupby)"
   ]
  },
  {
   "cell_type": "markdown",
   "metadata": {},
   "source": [
    "#### Using `pivot_table`"
   ]
  },
  {
   "cell_type": "code",
   "execution_count": 21,
   "metadata": {},
   "outputs": [
    {
     "name": "stdout",
     "output_type": "stream",
     "text": [
      "           Total_Sales\n",
      "region                \n",
      "West         269377190\n",
      "Northeast    186324067\n",
      "Southeast    163171236\n",
      "South        144663181\n",
      "Midwest      135649897\n"
     ]
    }
   ],
   "source": [
    "# Show the total sales for the products sold for each region, state, and city.\n",
    "# Create a pivot table to sum total_sales for each region\n",
    "pivot_table_region_sales = combined_sales.pivot_table(values='total_sales', index='region', aggfunc='sum')\n",
    "\n",
    "# Rename the aggregated column to \"Total_Sales\" for clarity\n",
    "pivot_table_region_sales.columns = ['Total_Sales']\n",
    "\n",
    "# Sort the pivot table in descending order to find the region with the most sales\n",
    "top_sales_region_pivot = pivot_table_region_sales.sort_values('Total_Sales', ascending=False)\n",
    "\n",
    "# Display the sorted pivot table\n",
    "print(top_sales_region_pivot)\n"
   ]
  },
  {
   "cell_type": "markdown",
   "metadata": {
    "jp-MarkdownHeadingCollapsed": true,
    "tags": []
   },
   "source": [
    "### 4. Determine which Retailer had the Most Sales"
   ]
  },
  {
   "cell_type": "markdown",
   "metadata": {},
   "source": [
    "#### Using `groupby`"
   ]
  },
  {
   "cell_type": "code",
   "execution_count": 22,
   "metadata": {},
   "outputs": [
    {
     "name": "stdout",
     "output_type": "stream",
     "text": [
      "        retailer  Total_Sales\n",
      "5      West Gear    242398341\n",
      "1    Foot Locker    220094720\n",
      "3  Sports Direct    182470997\n",
      "2         Kohl's    101964191\n",
      "0         Amazon     77698912\n"
     ]
    }
   ],
   "source": [
    "# Show the total sales for the products sold for each retailer, region, state, and city.\n",
    "# Group the data by retailer, sum the total_sales, and rename the sum column\n",
    "sales_by_retailer_groupby = combined_sales.groupby('retailer').agg(Total_Sales=('total_sales', 'sum')).reset_index()\n",
    "\n",
    "# Sort the results in descending order to find the retailer with the most sales\n",
    "top_sales_retailer_groupby = sales_by_retailer_groupby.sort_values('Total_Sales', ascending=False)\n",
    "\n",
    "# Display the sorted results for groupby\n",
    "print(top_sales_retailer_groupby.head())"
   ]
  },
  {
   "cell_type": "markdown",
   "metadata": {},
   "source": [
    "#### Using `pivot_table`"
   ]
  },
  {
   "cell_type": "code",
   "execution_count": 23,
   "metadata": {},
   "outputs": [
    {
     "name": "stdout",
     "output_type": "stream",
     "text": [
      "               Total_Sales\n",
      "retailer                  \n",
      "West Gear        242398341\n",
      "Foot Locker      220094720\n",
      "Sports Direct    182470997\n",
      "Kohl's           101964191\n",
      "Amazon            77698912\n"
     ]
    }
   ],
   "source": [
    "# Show the total sales for the products sold for each retailer, region, state, and city.\n",
    "# Create a pivot table to sum total_sales for each retailer\n",
    "pivot_table_retailer_sales = combined_sales.pivot_table(values='total_sales', index='retailer', aggfunc='sum')\n",
    "\n",
    "# Rename the aggregated column to \"Total_Sales\" for clarity\n",
    "pivot_table_retailer_sales.columns = ['Total_Sales']\n",
    "\n",
    "# Sort the pivot table in descending order to find the retailer with the most sales\n",
    "top_sales_retailer_pivot = pivot_table_retailer_sales.sort_values('Total_Sales', ascending=False)\n",
    "\n",
    "# Display the sorted pivot table\n",
    "print(top_sales_retailer_pivot.head())\n"
   ]
  },
  {
   "cell_type": "markdown",
   "metadata": {},
   "source": [
    "### 5. Determine which Retailer Sold the Most Women's Athletic Footwear"
   ]
  },
  {
   "cell_type": "code",
   "execution_count": 24,
   "metadata": {},
   "outputs": [],
   "source": [
    "# Filter the sales data to get the women's athletic footwear sales data.\n",
    "womens_athletic_footwear_sales = combined_sales[combined_sales['product'] == \"Women's Athletic Footwear\"]"
   ]
  },
  {
   "cell_type": "markdown",
   "metadata": {},
   "source": [
    "#### Using `groupby`"
   ]
  },
  {
   "cell_type": "code",
   "execution_count": 25,
   "metadata": {},
   "outputs": [
    {
     "name": "stdout",
     "output_type": "stream",
     "text": [
      "          retailer     region           state           city  \\\n",
      "101      West Gear       West      California  San Francisco   \n",
      "22     Foot Locker  Northeast        New York       New York   \n",
      "49          Kohl's       West      California    Los Angeles   \n",
      "33     Foot Locker  Southeast  South Carolina     Charleston   \n",
      "68   Sports Direct      South           Texas         Dallas   \n",
      "\n",
      "     Womens_Footwear_Units_Sold  \n",
      "101                       12107  \n",
      "22                        10996  \n",
      "49                        10826  \n",
      "33                         8814  \n",
      "68                         8790  \n"
     ]
    }
   ],
   "source": [
    "# Show the total number of women's athletic footwear sold for each retailer, region, state, and city.\n",
    "# Filter the combined sales data for Women's Athletic Footwear\n",
    "womens_athletic_footwear_sales = combined_sales[combined_sales['product'] == \"Women's Athletic Footwear\"]\n",
    "\n",
    "# Group the filtered data by retailer, region, state, and city, sum the units_sold, and rename the sum column\n",
    "womens_footwear_units_sold = womens_athletic_footwear_sales.groupby(['retailer', 'region', 'state', 'city']).agg(Womens_Footwear_Units_Sold=('units_sold', 'sum')).reset_index()\n",
    "\n",
    "# Sort the results in descending order to get the top 5 results\n",
    "top_womens_footwear_units_sold = womens_footwear_units_sold.sort_values('Womens_Footwear_Units_Sold', ascending=False).head(5)\n",
    "\n",
    "# Display the top 5 results\n",
    "print(top_womens_footwear_units_sold)"
   ]
  },
  {
   "cell_type": "markdown",
   "metadata": {},
   "source": [
    "#### Using `pivot_table`"
   ]
  },
  {
   "cell_type": "code",
   "execution_count": 26,
   "metadata": {},
   "outputs": [
    {
     "name": "stdout",
     "output_type": "stream",
     "text": [
      "          retailer     region           state           city  \\\n",
      "101      West Gear       West      California  San Francisco   \n",
      "22     Foot Locker  Northeast        New York       New York   \n",
      "49          Kohl's       West      California    Los Angeles   \n",
      "33     Foot Locker  Southeast  South Carolina     Charleston   \n",
      "68   Sports Direct      South           Texas         Dallas   \n",
      "\n",
      "     Womens_Footwear_Units_Sold  \n",
      "101                       12107  \n",
      "22                        10996  \n",
      "49                        10826  \n",
      "33                         8814  \n",
      "68                         8790  \n"
     ]
    }
   ],
   "source": [
    "# Show the total number of women's athletic footwear sold for each retailer, region, state, and city.\n",
    "# Filter the combined sales data for Women's Athletic Footwear\n",
    "womens_athletic_footwear_sales = combined_sales[combined_sales['product'] == \"Women's Athletic Footwear\"]\n",
    "\n",
    "# Create a pivot table to sum units_sold for Women's Athletic Footwear for each combination of retailer, region, state, and city\n",
    "pivot_table_womens_footwear = womens_athletic_footwear_sales.pivot_table(values='units_sold', \n",
    "                                                                          index=['retailer', 'region', 'state', 'city'], \n",
    "                                                                          aggfunc='sum')\n",
    "\n",
    "# Rename the aggregated column to \"Womens_Footwear_Units_Sold\" for clarity\n",
    "pivot_table_womens_footwear.columns = ['Womens_Footwear_Units_Sold']\n",
    "\n",
    "# Convert the pivot table to a DataFrame for sorting\n",
    "pivot_table_womens_footwear_df = pivot_table_womens_footwear.reset_index()\n",
    "\n",
    "# Sort the DataFrame in descending order to get the top 5 results\n",
    "top_womens_footwear_units_sold_pivot = pivot_table_womens_footwear_df.sort_values('Womens_Footwear_Units_Sold', ascending=False).head(5)\n",
    "\n",
    "# Display the top 5 results\n",
    "print(top_womens_footwear_units_sold_pivot)\n"
   ]
  },
  {
   "cell_type": "markdown",
   "metadata": {},
   "source": [
    "### 5. Determine the Day with the Most Women's Athletic Footwear Sales"
   ]
  },
  {
   "cell_type": "code",
   "execution_count": 27,
   "metadata": {},
   "outputs": [
    {
     "name": "stdout",
     "output_type": "stream",
     "text": [
      "              Total Sales\n",
      "invoice_date             \n",
      "2020-01-01         845141\n",
      "2020-01-02         689410\n",
      "2020-01-03         632573\n",
      "2020-01-04         615080\n",
      "2020-01-05         707829\n",
      "...                   ...\n",
      "2021-12-27         602353\n",
      "2021-12-28         301010\n",
      "2021-12-29         211109\n",
      "2021-12-30         167903\n",
      "2021-12-31         198659\n",
      "\n",
      "[723 rows x 1 columns]\n"
     ]
    }
   ],
   "source": [
    "# Create a pivot table with the 'invoice_date' column is the index, and the \"total_sales\" as the values.\n",
    "combined_sales['invoice_date'] = pd.to_datetime(combined_sales['invoice_date'])\n",
    "\n",
    "# Create the pivot table with 'invoice_date' as the index, and \"total_sales\" as the values\n",
    "pivot_table_sales_date = combined_sales.pivot_table(values='total_sales', index='invoice_date', aggfunc='sum')\n",
    "\n",
    "# Optional: Rename the \"total_sales\" column to \"Total Sales\" for clarity\n",
    "pivot_table_sales_date.columns = ['Total Sales']\n",
    "\n",
    "# Display the pivot table\n",
    "print(pivot_table_sales_date)\n"
   ]
  },
  {
   "cell_type": "code",
   "execution_count": 29,
   "metadata": {},
   "outputs": [
    {
     "name": "stdout",
     "output_type": "stream",
     "text": [
      "              Total Sales\n",
      "invoice_date             \n",
      "2020-12-31              0\n",
      "2020-10-11              0\n",
      "2020-10-12              0\n",
      "2020-10-13              0\n",
      "2020-10-14              0\n",
      "...                   ...\n",
      "2021-07-23        7689134\n",
      "2021-08-17        9517031\n",
      "2021-06-17       10239903\n",
      "2021-12-16       10871121\n",
      "2021-07-16       12261098\n",
      "\n",
      "[731 rows x 1 columns]\n"
     ]
    }
   ],
   "source": [
    "# Resample the pivot table into daily bins and sum the total sales for each day\n",
    "daily_sales_resampled = pivot_table_sales_date.resample('D').sum()\n",
    "\n",
    "# Sort the resampled pivot table in ascending order based on \"Total Sales\"\n",
    "daily_sales_resampled_sorted = daily_sales_resampled.sort_values('Total Sales', ascending=True)\n",
    "\n",
    "# Display the sorted resampled pivot table\n",
    "print(daily_sales_resampled_sorted)"
   ]
  },
  {
   "cell_type": "markdown",
   "metadata": {},
   "source": [
    "### 6.  Determine the Week with the Most Women's Athletic Footwear Sales"
   ]
  },
  {
   "cell_type": "code",
   "execution_count": 30,
   "metadata": {},
   "outputs": [
    {
     "name": "stdout",
     "output_type": "stream",
     "text": [
      "              Total Sales\n",
      "invoice_date             \n",
      "2020-10-18         251468\n",
      "2020-12-13         466322\n",
      "2020-12-20         590227\n",
      "2020-12-06         739673\n",
      "2020-11-22         927605\n",
      "...                   ...\n",
      "2021-08-22       22225401\n",
      "2021-12-12       23250286\n",
      "2021-12-19       24698535\n",
      "2021-07-18       24731702\n",
      "2021-07-11       26271380\n",
      "\n",
      "[105 rows x 1 columns]\n"
     ]
    }
   ],
   "source": [
    "# Resample the pivot table into weekly bins and sum the total sales for each week\n",
    "weekly_sales_resampled = pivot_table_sales_date.resample('W').sum()\n",
    "\n",
    "# Sort the resampled pivot table in ascending order based on \"Total Sales\"\n",
    "weekly_sales_resampled_sorted = weekly_sales_resampled.sort_values('Total Sales', ascending=True)\n",
    "\n",
    "# Display the sorted resampled pivot table\n",
    "print(weekly_sales_resampled_sorted)"
   ]
  },
  {
   "cell_type": "code",
   "execution_count": null,
   "metadata": {},
   "outputs": [],
   "source": []
  }
 ],
 "metadata": {
  "kernelspec": {
   "display_name": "Python 3 (ipykernel)",
   "language": "python",
   "name": "python3"
  },
  "language_info": {
   "codemirror_mode": {
    "name": "ipython",
    "version": 3
   },
   "file_extension": ".py",
   "mimetype": "text/x-python",
   "name": "python",
   "nbconvert_exporter": "python",
   "pygments_lexer": "ipython3",
   "version": "3.11.5"
  }
 },
 "nbformat": 4,
 "nbformat_minor": 4
}
